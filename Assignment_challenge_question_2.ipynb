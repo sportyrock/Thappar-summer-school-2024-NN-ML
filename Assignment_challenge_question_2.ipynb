{
  "nbformat": 4,
  "nbformat_minor": 0,
  "metadata": {
    "colab": {
      "provenance": [],
      "authorship_tag": "ABX9TyOrrsugk0V1FIIaxgHUI2B3",
      "include_colab_link": true
    },
    "kernelspec": {
      "name": "python3",
      "display_name": "Python 3"
    },
    "language_info": {
      "name": "python"
    }
  },
  "cells": [
    {
      "cell_type": "markdown",
      "metadata": {
        "id": "view-in-github",
        "colab_type": "text"
      },
      "source": [
        "<a href=\"https://colab.research.google.com/github/sportyrock/Thappar-summer-school-2024-NN-ML/blob/main/Assignment_challenge_question_2.ipynb\" target=\"_parent\"><img src=\"https://colab.research.google.com/assets/colab-badge.svg\" alt=\"Open In Colab\"/></a>"
      ]
    },
    {
      "cell_type": "code",
      "execution_count": 4,
      "metadata": {
        "colab": {
          "base_uri": "https://localhost:8080/"
        },
        "id": "I4RtbnGOtCqb",
        "outputId": "fff93c33-b8fc-44cf-bf49-c2ab95db505b"
      },
      "outputs": [
        {
          "output_type": "stream",
          "name": "stdout",
          "text": [
            "['1', '2', '3', 'aman', 'ram', 'shyam']\n"
          ]
        }
      ],
      "source": [
        "L = [\"ram\",1,\"shyam\",2,\"aman\",3]\n",
        "#L.sort()\n",
        "#gives error\n",
        "\n",
        "L = [str(i) for i in L]\n",
        "L.sort()\n",
        "\n",
        "print(L)"
      ]
    }
  ]
}